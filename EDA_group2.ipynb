{
 "cells": [
  {
   "cell_type": "markdown",
   "metadata": {},
   "source": [
    "# EDA ON AMAZON REVIEW DATASET\n",
    "\n"
   ]
  },
  {
   "cell_type": "code",
   "execution_count": 1,
   "metadata": {},
   "outputs": [],
   "source": [
    "import findspark\n",
    "findspark.init()"
   ]
  },
  {
   "cell_type": "markdown",
   "metadata": {},
   "source": [
    "# Loading Data\n",
    "\n",
    "## Initializing Pyspark"
   ]
  },
  {
   "cell_type": "code",
   "execution_count": 2,
   "metadata": {},
   "outputs": [],
   "source": [
    "import pyspark\n",
    "from pyspark.sql import SparkSession\n",
    "\n",
    "EXE_MEMORY=\"2G\"\n",
    "DRIVER_MEMORY=\"8G\"\n",
    "spark = SparkSession.builder.appName(\"AWS\").config(\"spark.executor.memory\", EXE_MEMORY).config(\"spark.executor.cores\", \"3\").config(\"spark.driver.memory\", DRIVER_MEMORY).getOrCreate()"
   ]
  },
  {
   "cell_type": "code",
   "execution_count": 5,
   "metadata": {},
   "outputs": [],
   "source": [
    "json_rdd = spark.read.json('C:/Users/salon/Documents/project/All_Amazon_Review.json')"
   ]
  },
  {
   "cell_type": "markdown",
   "metadata": {},
   "source": [
    "## Schema of Data"
   ]
  },
  {
   "cell_type": "code",
   "execution_count": 5,
   "metadata": {},
   "outputs": [
    {
     "name": "stdout",
     "output_type": "stream",
     "text": [
      "root\n",
      " |-- asin: string (nullable = true)\n",
      " |-- image: array (nullable = true)\n",
      " |    |-- element: string (containsNull = true)\n",
      " |-- overall: double (nullable = true)\n",
      " |-- reviewText: string (nullable = true)\n",
      " |-- reviewTime: string (nullable = true)\n",
      " |-- reviewerID: string (nullable = true)\n",
      " |-- reviewerName: string (nullable = true)\n",
      " |-- style: struct (nullable = true)\n",
      " |    |-- Bare Outside Diameter String:: string (nullable = true)\n",
      " |    |-- Bore Diameter:: string (nullable = true)\n",
      " |    |-- Capacity:: string (nullable = true)\n",
      " |    |-- Closed Length String:: string (nullable = true)\n",
      " |    |-- Color Name:: string (nullable = true)\n",
      " |    |-- Color:: string (nullable = true)\n",
      " |    |-- Colorj:: string (nullable = true)\n",
      " |    |-- Colour:: string (nullable = true)\n",
      " |    |-- Compatible Fastener Description:: string (nullable = true)\n",
      " |    |-- Conference Name:: string (nullable = true)\n",
      " |    |-- Configuration:: string (nullable = true)\n",
      " |    |-- Connectivity:: string (nullable = true)\n",
      " |    |-- Connector Type:: string (nullable = true)\n",
      " |    |-- Content:: string (nullable = true)\n",
      " |    |-- Current Type:: string (nullable = true)\n",
      " |    |-- Curvature:: string (nullable = true)\n",
      " |    |-- Cutting Diameter:: string (nullable = true)\n",
      " |    |-- Denomination:: string (nullable = true)\n",
      " |    |-- Department:: string (nullable = true)\n",
      " |    |-- Design:: string (nullable = true)\n",
      " |    |-- Diameter:: string (nullable = true)\n",
      " |    |-- Digital Storage Capacity:: string (nullable = true)\n",
      " |    |-- Display Height:: string (nullable = true)\n",
      " |    |-- Edition:: string (nullable = true)\n",
      " |    |-- Electrical Connector Type:: string (nullable = true)\n",
      " |    |-- Extended Length:: string (nullable = true)\n",
      " |    |-- Fits Shaft Diameter:: string (nullable = true)\n",
      " |    |-- Flavor Name:: string (nullable = true)\n",
      " |    |-- Flavor:: string (nullable = true)\n",
      " |    |-- Flex:: string (nullable = true)\n",
      " |    |-- Format:: string (nullable = true)\n",
      " |    |-- Free Length:: string (nullable = true)\n",
      " |    |-- Gauge:: string (nullable = true)\n",
      " |    |-- Gem Type:: string (nullable = true)\n",
      " |    |-- Gift Amount:: string (nullable = true)\n",
      " |    |-- Grip Type:: string (nullable = true)\n",
      " |    |-- Grit Type:: string (nullable = true)\n",
      " |    |-- Hand Orientation:: string (nullable = true)\n",
      " |    |-- Hardware Platform:: string (nullable = true)\n",
      " |    |-- Head Diameter:: string (nullable = true)\n",
      " |    |-- Horsepower:: string (nullable = true)\n",
      " |    |-- Initial:: string (nullable = true)\n",
      " |    |-- Input Range Description:: string (nullable = true)\n",
      " |    |-- Inside Diameter:: string (nullable = true)\n",
      " |    |-- Item Display Length:: string (nullable = true)\n",
      " |    |-- Item Display Weight:: string (nullable = true)\n",
      " |    |-- Item Package Quantity:: string (nullable = true)\n",
      " |    |-- Item Shape:: string (nullable = true)\n",
      " |    |-- Item Thickness:: string (nullable = true)\n",
      " |    |-- Item Weight:: string (nullable = true)\n",
      " |    |-- Lead Type:: string (nullable = true)\n",
      " |    |-- Length Range:: string (nullable = true)\n",
      " |    |-- Length:: string (nullable = true)\n",
      " |    |-- Line Weight:: string (nullable = true)\n",
      " |    |-- Load Capacity:: string (nullable = true)\n",
      " |    |-- Loft:: string (nullable = true)\n",
      " |    |-- Material Type:: string (nullable = true)\n",
      " |    |-- Material:: string (nullable = true)\n",
      " |    |-- Maximum Measurement:: string (nullable = true)\n",
      " |    |-- Measuring Range:: string (nullable = true)\n",
      " |    |-- Metal Stamp:: string (nullable = true)\n",
      " |    |-- Metal Type:: string (nullable = true)\n",
      " |    |-- Model Name:: string (nullable = true)\n",
      " |    |-- Model Number:: string (nullable = true)\n",
      " |    |-- Model:: string (nullable = true)\n",
      " |    |-- Nominal Outside Diameter:: string (nullable = true)\n",
      " |    |-- Number of Items:: string (nullable = true)\n",
      " |    |-- Number of Shelves:: string (nullable = true)\n",
      " |    |-- Offer Type:: string (nullable = true)\n",
      " |    |-- Options:: string (nullable = true)\n",
      " |    |-- Outside Diameter:: string (nullable = true)\n",
      " |    |-- Overall Height:: string (nullable = true)\n",
      " |    |-- Overall Length:: string (nullable = true)\n",
      " |    |-- Overall Width:: string (nullable = true)\n",
      " |    |-- Package Quantity:: string (nullable = true)\n",
      " |    |-- Package Type:: string (nullable = true)\n",
      " |    |-- Part Number:: string (nullable = true)\n",
      " |    |-- Pattern:: string (nullable = true)\n",
      " |    |-- Pitch Diameter String:: string (nullable = true)\n",
      " |    |-- Pitch:: string (nullable = true)\n",
      " |    |-- Platform for Display:: string (nullable = true)\n",
      " |    |-- Platform:: string (nullable = true)\n",
      " |    |-- Preamplifier Output Channel Quantity:: string (nullable = true)\n",
      " |    |-- Primary Stone Gem Type:: string (nullable = true)\n",
      " |    |-- Processor Description:: string (nullable = true)\n",
      " |    |-- Product Packaging:: string (nullable = true)\n",
      " |    |-- Range:: string (nullable = true)\n",
      " |    |-- SCENT:: string (nullable = true)\n",
      " |    |-- Scent Name:: string (nullable = true)\n",
      " |    |-- Scent:: string (nullable = true)\n",
      " |    |-- Service plan term:: string (nullable = true)\n",
      " |    |-- Shaft Material Type:: string (nullable = true)\n",
      " |    |-- Shaft Material:: string (nullable = true)\n",
      " |    |-- Shape:: string (nullable = true)\n",
      " |    |-- Size Name:: string (nullable = true)\n",
      " |    |-- Size per Pearl:: string (nullable = true)\n",
      " |    |-- Size:: string (nullable = true)\n",
      " |    |-- Special Features:: string (nullable = true)\n",
      " |    |-- Stone Shape:: string (nullable = true)\n",
      " |    |-- Style Name:: string (nullable = true)\n",
      " |    |-- Style:: string (nullable = true)\n",
      " |    |-- Subscription Length:: string (nullable = true)\n",
      " |    |-- Team Name:: string (nullable = true)\n",
      " |    |-- Temperature Range:: string (nullable = true)\n",
      " |    |-- Tension Supported:: string (nullable = true)\n",
      " |    |-- Thickness:: string (nullable = true)\n",
      " |    |-- Total Diamond Weight:: string (nullable = true)\n",
      " |    |-- Unit Count:: string (nullable = true)\n",
      " |    |-- Volume:: string (nullable = true)\n",
      " |    |-- Wattage:: string (nullable = true)\n",
      " |    |-- Width Range:: string (nullable = true)\n",
      " |    |-- Width:: string (nullable = true)\n",
      " |    |-- Wire Diameter:: string (nullable = true)\n",
      " |    |-- option:: string (nullable = true)\n",
      " |    |-- processor_description:: string (nullable = true)\n",
      " |    |-- style name:: string (nullable = true)\n",
      " |    |-- style:: string (nullable = true)\n",
      " |-- summary: string (nullable = true)\n",
      " |-- unixReviewTime: long (nullable = true)\n",
      " |-- verified: boolean (nullable = true)\n",
      " |-- vote: string (nullable = true)\n",
      "\n"
     ]
    }
   ],
   "source": [
    "json_rdd.printSchema()"
   ]
  },
  {
   "cell_type": "code",
   "execution_count": 6,
   "metadata": {},
   "outputs": [
    {
     "name": "stdout",
     "output_type": "stream",
     "text": [
      "+----------+-----+-------+--------------------+-----------+--------------+----------------+-----+--------------------+--------------+--------+----+\n",
      "|      asin|image|overall|          reviewText| reviewTime|    reviewerID|    reviewerName|style|             summary|unixReviewTime|verified|vote|\n",
      "+----------+-----+-------+--------------------+-----------+--------------+----------------+-----+--------------------+--------------+--------+----+\n",
      "|B017O9P72A| null|    1.0|Alexa is not able...|12 11, 2015|A27BTSGLXK2C5K|Jacob M. Wessler| null|VERY Buggy, doesn...|    1449792000|   false|null|\n",
      "|B017O9P72A| null|    4.0|Alexa works great...| 12 8, 2015|A27ZJ1NCBFP1HZ|            Greg| null|      So Far So Good|    1449532800|   false|   5|\n",
      "|B017O9P72A| null|    1.0|Weak!!\n",
      "\n",
      "Alexa doe...| 12 7, 2015| ACCQIOZMFN4UK|        Da-Gr8-1| null|         Time waster|    1449446400|   false|  11|\n",
      "|B017O9P72A| null|    2.0|Can only control ...| 12 5, 2015|A3KUPJ396OQF78|   Larry Russlin| null|               Buggy|    1449273600|   false|null|\n",
      "|B017O9P72A| null|    1.0|this worked great...| 02 2, 2018|A1U1RE1ZI19E1H|         Rebekah| null|     stopped working|    1517529600|   false|   2|\n",
      "+----------+-----+-------+--------------------+-----------+--------------+----------------+-----+--------------------+--------------+--------+----+\n",
      "only showing top 5 rows\n",
      "\n"
     ]
    }
   ],
   "source": [
    "json_rdd.show(5)"
   ]
  },
  {
   "cell_type": "code",
   "execution_count": 7,
   "metadata": {},
   "outputs": [],
   "source": [
    "review_text=json_rdd.select(\"reviewText\")\n"
   ]
  },
  {
   "cell_type": "markdown",
   "metadata": {},
   "source": [
    "## ReviewText (each reviewText with wordcount)"
   ]
  },
  {
   "cell_type": "code",
   "execution_count": 8,
   "metadata": {},
   "outputs": [],
   "source": [
    "#word count by column\n",
    "import pyspark.sql.functions as f\n",
    "df = review_text.withColumn('wordCount', f.size(f.split(f.col('reviewText'), ' ')))"
   ]
  },
  {
   "cell_type": "code",
   "execution_count": 9,
   "metadata": {},
   "outputs": [
    {
     "name": "stdout",
     "output_type": "stream",
     "text": [
      "+--------------------+---------+\n",
      "|          reviewText|wordCount|\n",
      "+--------------------+---------+\n",
      "|Alexa is not able...|       74|\n",
      "|Alexa works great...|      140|\n",
      "|Weak!!\n",
      "\n",
      "Alexa doe...|       21|\n",
      "|Can only control ...|       12|\n",
      "|this worked great...|        8|\n",
      "|         Great skill|        2|\n",
      "|Pretty crappy. Wo...|        6|\n",
      "|Not happy. Can no...|        8|\n",
      "|Can not connect a...|       41|\n",
      "|The service works...|       21|\n",
      "|The LifX bulb is ...|       42|\n",
      "|So easy to connec...|       15|\n",
      "|I use &ldquo;Echo...|       54|\n",
      "|Can&rsquo;t conne...|        5|\n",
      "|I haven't had any...|       23|\n",
      "|This app forces y...|       69|\n",
      "|Red all steps and...|        8|\n",
      "|This skill works ...|      365|\n",
      "|Who would think y...|       47|\n",
      "|Lifx is a weird w...|       16|\n",
      "+--------------------+---------+\n",
      "only showing top 20 rows\n",
      "\n"
     ]
    }
   ],
   "source": [
    "df.show()"
   ]
  },
  {
   "cell_type": "markdown",
   "metadata": {},
   "source": [
    "## Total number of wordounts in reviewText\n",
    "\n",
    "Total number of wordounts in the data is 11880770469."
   ]
  },
  {
   "cell_type": "code",
   "execution_count": 11,
   "metadata": {},
   "outputs": [],
   "source": [
    "#word count by column\n",
    "import pyspark.sql.functions as f\n",
    "dq = df.withColumn('wordCount', f.size(f.split(f.col('reviewText'), ' ')))"
   ]
  },
  {
   "cell_type": "code",
   "execution_count": 13,
   "metadata": {},
   "outputs": [
    {
     "data": {
      "text/plain": [
       "[Row(sum(wordCount)=11880770469)]"
      ]
     },
     "execution_count": 13,
     "metadata": {},
     "output_type": "execute_result"
    }
   ],
   "source": [
    "#total word count\n",
    "import pyspark.sql.functions as f\n",
    "dq.select(f.sum('wordCount')).collect()"
   ]
  },
  {
   "cell_type": "markdown",
   "metadata": {},
   "source": [
    "## Exploding reviewtexts into words and counding each word"
   ]
  },
  {
   "cell_type": "code",
   "execution_count": 14,
   "metadata": {},
   "outputs": [],
   "source": [
    "import pyspark.sql.functions as f\n",
    "df2=df.withColumn('word', f.explode(f.split(f.col('reviewText'), ' ')))\\\n",
    "    .groupBy('word')\\\n",
    "    .count()\\\n",
    "    .sort('count', ascending=False)"
   ]
  },
  {
   "cell_type": "code",
   "execution_count": 16,
   "metadata": {},
   "outputs": [
    {
     "name": "stdout",
     "output_type": "stream",
     "text": [
      "+----+---------+\n",
      "|word|    count|\n",
      "+----+---------+\n",
      "| the|504021991|\n",
      "| and|342033953|\n",
      "|  to|294284801|\n",
      "|   I|289512022|\n",
      "|   a|288876572|\n",
      "|  of|212184672|\n",
      "|    |202979410|\n",
      "|  is|181857764|\n",
      "|  it|160092066|\n",
      "|  in|137296673|\n",
      "| for|136520657|\n",
      "|this|122811602|\n",
      "|that|105868408|\n",
      "| was| 92551196|\n",
      "|with| 91098063|\n",
      "|  my| 85724228|\n",
      "|  on| 78726498|\n",
      "| but| 76681083|\n",
      "|have| 70576701|\n",
      "|  as| 68674777|\n",
      "+----+---------+\n",
      "only showing top 20 rows\n",
      "\n"
     ]
    }
   ],
   "source": [
    "df2.show()"
   ]
  },
  {
   "cell_type": "markdown",
   "metadata": {},
   "source": [
    "## Visual Representation of reviewtexts with the wordcounts\n",
    "\n",
    "We can see in below histogram that in 20 million reviewtexts a large number of reviewtexts are of less than 50 word counts."
   ]
  },
  {
   "cell_type": "code",
   "execution_count": 8,
   "metadata": {},
   "outputs": [],
   "source": [
    "df2=df.select('wordCount')"
   ]
  },
  {
   "cell_type": "code",
   "execution_count": 18,
   "metadata": {},
   "outputs": [],
   "source": [
    "df4=df2.limit(20000000).toPandas()"
   ]
  },
  {
   "cell_type": "code",
   "execution_count": 23,
   "metadata": {},
   "outputs": [
    {
     "data": {
      "text/plain": [
       "array([[<matplotlib.axes._subplots.AxesSubplot object at 0x0000022819D60348>]],\n",
       "      dtype=object)"
      ]
     },
     "execution_count": 23,
     "metadata": {},
     "output_type": "execute_result"
    },
    {
     "data": {
      "image/png": "[encoded data removed]",
      "text/plain": [
       "<Figure size 432x288 with 1 Axes>"
      ]
     },
     "metadata": {
      "needs_background": "light"
     },
     "output_type": "display_data"
    }
   ],
   "source": [
    "import matplotlib.pyplot as plt\n",
    "import pandas as pd\n",
    "import numpy as np\n",
    "df4.hist('wordCount',range=(0,400), color='green')"
   ]
  },
  {
   "cell_type": "markdown",
   "metadata": {},
   "source": [
    "## Counting each character of reviewtexts\n",
    "\n",
    "There are 64470979792 number of total characters."
   ]
  },
  {
   "cell_type": "code",
   "execution_count": 11,
   "metadata": {},
   "outputs": [],
   "source": [
    "#Charachter count by column\n",
    "import pyspark.sql.functions as f\n",
    "\n",
    "df2=df.withColumn('Char', f.explode(f.split(f.col('reviewText'), '')))\\\n",
    "    .groupBy('Char')\\\n",
    "    .count()\\\n",
    "    .sort('Count', ascending=False)"
   ]
  },
  {
   "cell_type": "code",
   "execution_count": 13,
   "metadata": {},
   "outputs": [
    {
     "data": {
      "text/plain": [
       "[Row(sum(Count)=64470979792)]"
      ]
     },
     "execution_count": 13,
     "metadata": {},
     "output_type": "execute_result"
    }
   ],
   "source": [
    "#number of characters\n",
    "import pyspark.sql.functions as f\n",
    "\n",
    "df2.select(f.sum('Count')).collect()\n"
   ]
  },
  {
   "cell_type": "markdown",
   "metadata": {},
   "source": [
    "## Hundred charaters with its counts"
   ]
  },
  {
   "cell_type": "code",
   "execution_count": 14,
   "metadata": {},
   "outputs": [
    {
     "name": "stdout",
     "output_type": "stream",
     "text": [
      "+----+-----------+\n",
      "|Char|      count|\n",
      "+----+-----------+\n",
      "|    |11648021910|\n",
      "|   e| 5924410570|\n",
      "|   t| 4661518291|\n",
      "|   o| 3900198613|\n",
      "|   a| 3840663249|\n",
      "|   i| 3338031452|\n",
      "|   s| 3167042811|\n",
      "|   n| 3088565524|\n",
      "|   r| 2886666918|\n",
      "|   h| 2544464926|\n",
      "|   l| 2124101056|\n",
      "|   d| 1869870108|\n",
      "|   u| 1419619980|\n",
      "|   c| 1300598447|\n",
      "|   m| 1125343175|\n",
      "|   y| 1078720307|\n",
      "|   g| 1040632075|\n",
      "|   f| 1020690100|\n",
      "|   w|  956866332|\n",
      "|   p|  929716274|\n",
      "|   .|  822530548|\n",
      "|   b|  793035588|\n",
      "|   v|  575851565|\n",
      "|   k|  522991281|\n",
      "|   I|  448938279|\n",
      "|   ,|  410820471|\n",
      "|    |  232901943|\n",
      "|   T|  227506499|\n",
      "|   '|  203424382|\n",
      "|   \n",
      "|  145027815|\n",
      "|   A|  116084048|\n",
      "|   !|  115014518|\n",
      "|   S|  107228138|\n",
      "|   x|  104631253|\n",
      "|   -|  104225238|\n",
      "|   j|   75554140|\n",
      "|   \"|   73190739|\n",
      "|   E|   72716813|\n",
      "|   W|   70942294|\n",
      "|   M|   70055424|\n",
      "|   C|   67808274|\n",
      "|   B|   67364013|\n",
      "|   H|   63376886|\n",
      "|   O|   60486749|\n",
      "|   D|   60397538|\n",
      "|   L|   59951741|\n",
      "|   G|   59679212|\n",
      "|   N|   55677717|\n",
      "|   z|   55340756|\n",
      "|   P|   52043715|\n",
      "|   R|   50643092|\n",
      "|   q|   49128609|\n",
      "|   0|   47172798|\n",
      "|   1|   42371146|\n",
      "|   F|   42113904|\n",
      "|   )|   39937219|\n",
      "|   (|   36848985|\n",
      "|   2|   33977187|\n",
      "|   V|   31491467|\n",
      "|   5|   24550205|\n",
      "|   /|   24527157|\n",
      "|   U|   24330907|\n",
      "|   Y|   23555276|\n",
      "|   J|   23161477|\n",
      "|   3|   22411729|\n",
      "|   K|   20037959|\n",
      "|   4|   18139869|\n",
      "|   :|   17618750|\n",
      "|   ?|   15436455|\n",
      "|   6|   12705160|\n",
      "|   8|   12399562|\n",
      "|   9|   12347466|\n",
      "|   ;|    9947425|\n",
      "|   7|    9639847|\n",
      "|   =|    8633726|\n",
      "|   &|    8621168|\n",
      "|   _|    7547408|\n",
      "|   *|    6298878|\n",
      "|   $|    5792715|\n",
      "|   X|    4816947|\n",
      "|   Q|    3905696|\n",
      "|   Z|    3407695|\n",
      "|   >|    3334244|\n",
      "|   <|    3198423|\n",
      "|   +|    2786732|\n",
      "|   %|    2181060|\n",
      "|   #|    1133868|\n",
      "|   [|    1096660|\n",
      "|   ]|    1095720|\n",
      "|   ~|     784873|\n",
      "|   `|     660431|\n",
      "|   @|     271775|\n",
      "|   ^|     115219|\n",
      "|   \\|      79237|\n",
      "|   }|      65425|\n",
      "|   {|      59081|\n",
      "|   ||      49200|\n",
      "|   \u001b|       4205|\n",
      "|   \u0010|       2026|\n",
      "|   |       1637|\n",
      "+----+-----------+\n",
      "only showing top 100 rows\n",
      "\n"
     ]
    }
   ],
   "source": [
    "df2.show(100)"
   ]
  },
  {
   "cell_type": "markdown",
   "metadata": {},
   "source": [
    "## Creating Table and Graphic Representation of \"overall\" Variable with its Frequency"
   ]
  },
  {
   "cell_type": "code",
   "execution_count": null,
   "metadata": {},
   "outputs": [],
   "source": [
    "char=df2.toPandas()\n",
    "export_csv=char.to_csv\n",
    "dl=json_rdd.select(\"overall\")\n",
    "dl2=dl.groupby(\"overall\").count().sort(\"overall\")"
   ]
  },
  {
   "cell_type": "code",
   "execution_count": 17,
   "metadata": {},
   "outputs": [
    {
     "name": "stdout",
     "output_type": "stream",
     "text": [
      "+-------+---------+\n",
      "|overall|    count|\n",
      "+-------+---------+\n",
      "|    0.0|        9|\n",
      "|    1.0| 18256432|\n",
      "|    2.0| 10979213|\n",
      "|    3.0| 17809027|\n",
      "|    4.0| 37360696|\n",
      "|    5.0|148649950|\n",
      "+-------+---------+\n",
      "\n"
     ]
    }
   ],
   "source": [
    "dl2.show()"
   ]
  },
  {
   "cell_type": "code",
   "execution_count": 18,
   "metadata": {},
   "outputs": [],
   "source": [
    "pdf=dl2.toPandas()"
   ]
  },
  {
   "cell_type": "code",
   "execution_count": 20,
   "metadata": {},
   "outputs": [
    {
     "data": {
      "text/plain": [
       "<matplotlib.axes._subplots.AxesSubplot at 0x218147d9508>"
      ]
     },
     "execution_count": 20,
     "metadata": {},
     "output_type": "execute_result"
    },
    {
     "data": {
      "image/png": "[encoded data removed]",
      "text/plain": [
       "<Figure size 432x288 with 1 Axes>"
      ]
     },
     "metadata": {
      "needs_background": "light"
     },
     "output_type": "display_data"
    }
   ],
   "source": [
    "import matplotlib.pyplot as plt\n",
    "import pandas as pd\n",
    "pdf.plot(kind='bar', x='overall', y='count', colormap='winter_r')"
   ]
  }
 ],
 "metadata": {
  "kernelspec": {
   "display_name": "Python 3",
   "language": "python",
   "name": "python3"
  },
  "language_info": {
   "codemirror_mode": {
    "name": "ipython",
    "version": 3
   },
   "file_extension": ".py",
   "mimetype": "text/x-python",
   "name": "python",
   "nbconvert_exporter": "python",
   "pygments_lexer": "ipython3",
   "version": "3.7.6"
  }
 },
 "nbformat": 4,
 "nbformat_minor": 4
}
