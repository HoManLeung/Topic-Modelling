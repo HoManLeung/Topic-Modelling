{
 "cells": [
  {
   "cell_type": "markdown",
   "metadata": {},
   "source": [
    "## Data Processing"
   ]
  },
  {
   "cell_type": "code",
   "execution_count": 4,
   "metadata": {},
   "outputs": [],
   "source": [
    "import findspark\n",
    "findspark.init()"
   ]
  },
  {
   "cell_type": "code",
   "execution_count": 24,
   "metadata": {},
   "outputs": [],
   "source": [
    "import pyspark\n",
    "from pyspark.sql import SparkSession\n",
    "EXE_MEMORY=\"2G\"\n",
    "DRIVER_MEMORY=\"24G\"\n",
    "spark = SparkSession.builder.appName(\"AWS\").config(\"spark.executor.memory\", EXE_MEMORY).config(\"spark.executor.cores\", \"4\").config(\"spark.driver.memory\", DRIVER_MEMORY).getOrCreate()"
   ]
  },
  {
   "cell_type": "code",
   "execution_count": 6,
   "metadata": {},
   "outputs": [],
   "source": [
    "df = spark.read.json('C:/Users/salon/Downloads/All_Amazon_Review.json')"
   ]
  },
  {
   "cell_type": "code",
   "execution_count": 7,
   "metadata": {},
   "outputs": [],
   "source": [
    "df1 = df.select('overall','reviewText')"
   ]
  },
  {
   "cell_type": "code",
   "execution_count": 17,
   "metadata": {},
   "outputs": [
    {
     "name": "stdout",
     "output_type": "stream",
     "text": [
      "+-------+--------------------+\n",
      "|overall|          reviewText|\n",
      "+-------+--------------------+\n",
      "|    1.0|Alexa is not able...|\n",
      "|    4.0|Alexa works great...|\n",
      "+-------+--------------------+\n",
      "only showing top 2 rows\n",
      "\n"
     ]
    }
   ],
   "source": [
    "df1.show(2)"
   ]
  },
  {
   "cell_type": "code",
   "execution_count": 10,
   "metadata": {},
   "outputs": [
    {
     "ename": "AttributeError",
     "evalue": "'DataFrame' object has no attribute 'to_json'",
     "output_type": "error",
     "traceback": [
      "\u001b[1;31m---------------------------------------------------------------------------\u001b[0m",
      "\u001b[1;31mAttributeError\u001b[0m                            Traceback (most recent call last)",
      "\u001b[1;32m<ipython-input-10-682fb8110dae>\u001b[0m in \u001b[0;36m<module>\u001b[1;34m\u001b[0m\n\u001b[1;32m----> 1\u001b[1;33m \u001b[0mdf1\u001b[0m\u001b[1;33m.\u001b[0m\u001b[0mto_json\u001b[0m\u001b[1;33m(\u001b[0m\u001b[1;34mr'D:\\Project\\review.json'\u001b[0m\u001b[1;33m)\u001b[0m\u001b[1;33m\u001b[0m\u001b[1;33m\u001b[0m\u001b[0m\n\u001b[0m",
      "\u001b[1;32m~\\Downloads\\spark-2.4.5-bin-hadoop2.7\\python\\pyspark\\sql\\dataframe.py\u001b[0m in \u001b[0;36m__getattr__\u001b[1;34m(self, name)\u001b[0m\n\u001b[0;32m   1302\u001b[0m         \u001b[1;32mif\u001b[0m \u001b[0mname\u001b[0m \u001b[1;32mnot\u001b[0m \u001b[1;32min\u001b[0m \u001b[0mself\u001b[0m\u001b[1;33m.\u001b[0m\u001b[0mcolumns\u001b[0m\u001b[1;33m:\u001b[0m\u001b[1;33m\u001b[0m\u001b[1;33m\u001b[0m\u001b[0m\n\u001b[0;32m   1303\u001b[0m             raise AttributeError(\n\u001b[1;32m-> 1304\u001b[1;33m                 \"'%s' object has no attribute '%s'\" % (self.__class__.__name__, name))\n\u001b[0m\u001b[0;32m   1305\u001b[0m         \u001b[0mjc\u001b[0m \u001b[1;33m=\u001b[0m \u001b[0mself\u001b[0m\u001b[1;33m.\u001b[0m\u001b[0m_jdf\u001b[0m\u001b[1;33m.\u001b[0m\u001b[0mapply\u001b[0m\u001b[1;33m(\u001b[0m\u001b[0mname\u001b[0m\u001b[1;33m)\u001b[0m\u001b[1;33m\u001b[0m\u001b[1;33m\u001b[0m\u001b[0m\n\u001b[0;32m   1306\u001b[0m         \u001b[1;32mreturn\u001b[0m \u001b[0mColumn\u001b[0m\u001b[1;33m(\u001b[0m\u001b[0mjc\u001b[0m\u001b[1;33m)\u001b[0m\u001b[1;33m\u001b[0m\u001b[1;33m\u001b[0m\u001b[0m\n",
      "\u001b[1;31mAttributeError\u001b[0m: 'DataFrame' object has no attribute 'to_json'"
     ]
    }
   ],
   "source": [
    "df1.to_json(r'D:\\Project\\review.json')"
   ]
  },
  {
   "cell_type": "markdown",
   "metadata": {},
   "source": [
    "## Giving ID as idx to each row as reviewerID is not unique"
   ]
  },
  {
   "cell_type": "code",
   "execution_count": 11,
   "metadata": {},
   "outputs": [
    {
     "name": "stdout",
     "output_type": "stream",
     "text": [
      "+-------+--------------------+---+\n",
      "|overall|          reviewText|idx|\n",
      "+-------+--------------------+---+\n",
      "|    1.0|Alexa is not able...|  1|\n",
      "|    4.0|Alexa works great...|  2|\n",
      "+-------+--------------------+---+\n",
      "only showing top 2 rows\n",
      "\n"
     ]
    }
   ],
   "source": [
    "from pyspark.sql.window import Window as W\n",
    "from pyspark.sql import functions as F\n",
    "df = df1.withColumn(\"idx\", F.monotonically_increasing_id())\n",
    "windowSpec = W.orderBy(\"idx\")\n",
    "df.withColumn(\"idx\", F.row_number().over(windowSpec)).show(2)"
   ]
  },
  {
   "cell_type": "markdown",
   "metadata": {},
   "source": [
    "## Removing Null Values in reviewText"
   ]
  },
  {
   "cell_type": "code",
   "execution_count": 19,
   "metadata": {},
   "outputs": [],
   "source": [
    "df=df.where(df.reviewText.isNotNull())"
   ]
  },
  {
   "cell_type": "markdown",
   "metadata": {},
   "source": [
    "## Removing Punctuations \n",
    "\n",
    "For cleaning text, in this we removed punctuations along with trailing and leading spaces. Also lower cased all the alphabets."
   ]
  },
  {
   "cell_type": "code",
   "execution_count": 20,
   "metadata": {},
   "outputs": [],
   "source": [
    "from pyspark.sql.functions import regexp_replace, trim, col, lower\n",
    "def removePunctuation(column):\n",
    "    \"\"\"Removes punctuation, changes to lower case, and strips leading and trailing spaces.\n",
    "\n",
    "    Note:\n",
    "        Only spaces, letters, and numbers should be retained.  Other characters should should be\n",
    "        eliminated (e.g. it's becomes its).  Leading and trailing spaces should be removed after\n",
    "        punctuation is removed.\n",
    "\n",
    "    Args:\n",
    "        column (Column): A Column containing a sentence.\n",
    "\n",
    "    Returns:\n",
    "        Column: A Column named 'sentence' with clean-up operations applied.\n",
    "    \"\"\"\n",
    "    return trim(lower(regexp_replace(column, '[^\\sa-zA-Z0-9]', ''))).alias('reviewText')\n",
    "\n",
    "df=df.select(\"IDX\", \"overall\", (removePunctuation(col('reviewText'))))"
   ]
  },
  {
   "cell_type": "code",
   "execution_count": 21,
   "metadata": {},
   "outputs": [
    {
     "name": "stdout",
     "output_type": "stream",
     "text": [
      "+---+-------+----------------------------------------------------------------------------------------------------------------------------------------------------------------------------------------------------------------------------------------------------------------------------------------------------------------------------------------------------------------------------------------------------------------------------------------------------------------------------------------------------------------------------------------------------------------------------------------------------------------------------------------------------------------------------------------------------------------------------------------------------------------------------------------------------------------------+\n",
      "|IDX|overall|reviewText                                                                                                                                                                                                                                                                                                                                                                                                                                                                                                                                                                                                                                                                                                                                                                                                            |\n",
      "+---+-------+----------------------------------------------------------------------------------------------------------------------------------------------------------------------------------------------------------------------------------------------------------------------------------------------------------------------------------------------------------------------------------------------------------------------------------------------------------------------------------------------------------------------------------------------------------------------------------------------------------------------------------------------------------------------------------------------------------------------------------------------------------------------------------------------------------------------+\n",
      "|0  |1.0    |alexa is not able to control my lights if i ask her to tell me what lifx can do she will give me an example with one of my group names if i use that exact same group name in a new request shell await that she doesnt recognize the name this skill is very buggy and has not yet worked for me i even rest alexa uninstalled lifx and set everything up again                                                                                                                                                                                                                                                                                                                                                                                                                                                      |\n",
      "|1  |4.0    |alexa works great for me so far but im also only controlling a single bulb at the moment turning onoff changing colors and adjusting brightness are all easy and quick that being said im expecting complications as i add more bulbs hope for the best prepare for the worst right\n",
      "\n",
      "id speculate that some other users frustrations might stem from alexa not recognizing their bulb or room names after simplifying my bulb name to lamp and listing it under a living room group within the lifx app ive been able to address it by either category pretty consistently\n",
      "turn onoff living room lights\n",
      "change lamp light to color\n",
      "dim living room lights to x\n",
      "\n",
      "like any new tech you can expect growing pains and bugs early on be patient this skill isnt perfect by any means but id say its off to a decent start|\n",
      "|2  |1.0    |weak\n",
      "\n",
      "alexa doesnt even recognize the name lifx\n",
      "its a waste of time to even ask her to turn on and off lights                                                                                                                                                                                                                                                                                                                                                                                                                                                                                                                                                                                                                                                                                                         |\n",
      "|3  |2.0    |can only control one of two bulbs from one of two echos                                                                                                                                                                                                                                                                                                                                                                                                                                                                                                                                                                                                                                                                                                                                                               |\n",
      "|4  |1.0    |this worked great then randomly stopped please update                                                                                                                                                                                                                                                                                                                                                                                                                                                                                                                                                                                                                                                                                                                                                                 |\n",
      "+---+-------+----------------------------------------------------------------------------------------------------------------------------------------------------------------------------------------------------------------------------------------------------------------------------------------------------------------------------------------------------------------------------------------------------------------------------------------------------------------------------------------------------------------------------------------------------------------------------------------------------------------------------------------------------------------------------------------------------------------------------------------------------------------------------------------------------------------------+\n",
      "only showing top 5 rows\n",
      "\n"
     ]
    }
   ],
   "source": [
    "df.show(5, False)"
   ]
  },
  {
   "cell_type": "markdown",
   "metadata": {},
   "source": [
    "## Data processing\n",
    "\n",
    "Here we tokenized text, removed all stop words given in \"StopWordRemover\"(list of words is given below). After this we lemmatized the text before stemming and atlast we removed the words of size less or equal than 3."
   ]
  },
  {
   "cell_type": "code",
   "execution_count": 22,
   "metadata": {},
   "outputs": [
    {
     "name": "stderr",
     "output_type": "stream",
     "text": [
      "[nltk_data] Downloading package wordnet to\n",
      "[nltk_data]     C:\\Users\\salon\\AppData\\Roaming\\nltk_data...\n",
      "[nltk_data]   Unzipping corpora\\wordnet.zip.\n"
     ]
    },
    {
     "name": "stdout",
     "output_type": "stream",
     "text": [
      "+---+-------+--------------------+\n",
      "|idx|overall|         words_token|\n",
      "+---+-------+--------------------+\n",
      "|  0|    1.0|[alexa, is, not, ...|\n",
      "|  1|    4.0|[alexa, works, gr...|\n",
      "|  2|    1.0|[weak, , alexa, d...|\n",
      "|  3|    2.0|[can, only, contr...|\n",
      "|  4|    1.0|[this, worked, gr...|\n",
      "+---+-------+--------------------+\n",
      "only showing top 5 rows\n",
      "\n",
      "+---+-------+--------------------+\n",
      "|idx|overall|         words_clean|\n",
      "+---+-------+--------------------+\n",
      "|  0|    1.0|[alexa, able, con...|\n",
      "|  1|    4.0|[alexa, works, gr...|\n",
      "|  2|    1.0|[weak, , alexa, d...|\n",
      "|  3|    2.0|[control, one, tw...|\n",
      "|  4|    1.0|[worked, great, r...|\n",
      "+---+-------+--------------------+\n",
      "only showing top 5 rows\n",
      "\n",
      "+---+-------+--------------------+\n",
      "|IDX|overall|               lemmi|\n",
      "+---+-------+--------------------+\n",
      "|  0|    1.0|[alexa, able, con...|\n",
      "|  1|    4.0|[alexa, work, gre...|\n",
      "|  2|    1.0|[weak, , alexa, d...|\n",
      "|  3|    2.0|[control, one, tw...|\n",
      "|  4|    1.0|[worked, great, r...|\n",
      "+---+-------+--------------------+\n",
      "only showing top 5 rows\n",
      "\n",
      "+---+-------+--------------------+\n",
      "|IDX|overall|       words_stemmed|\n",
      "+---+-------+--------------------+\n",
      "|  0|    1.0|[alexa, abl, cont...|\n",
      "|  1|    4.0|[alexa, work, gre...|\n",
      "|  2|    1.0|[weak, , alexa, d...|\n",
      "|  3|    2.0|[control, one, tw...|\n",
      "|  4|    1.0|[work, great, ran...|\n",
      "+---+-------+--------------------+\n",
      "only showing top 5 rows\n",
      "\n",
      "+---+-------+--------------------+\n",
      "|IDX|overall|               words|\n",
      "+---+-------+--------------------+\n",
      "|  0|    1.0|[alexa, control, ...|\n",
      "|  1|    4.0|[alexa, work, gre...|\n",
      "|  2|    1.0|[weak, alexa, doe...|\n",
      "|  3|    2.0|[control, bulb, e...|\n",
      "|  4|    1.0|[work, great, ran...|\n",
      "+---+-------+--------------------+\n",
      "only showing top 5 rows\n",
      "\n"
     ]
    }
   ],
   "source": [
    "from pyspark.sql import SparkSession\n",
    "from pyspark.sql.functions import udf, col, lower, regexp_replace\n",
    "from pyspark.ml.feature import Tokenizer, StopWordsRemover\n",
    "from nltk.stem.snowball import SnowballStemmer\n",
    "from pyspark.sql.types import *\n",
    "from nltk import WordNetLemmatizer\n",
    "import nltk\n",
    "nltk.download('wordnet')\n",
    "\n",
    "# Tokenize text\n",
    "tokenizer = Tokenizer(inputCol='reviewText', outputCol='words_token')\n",
    "df_words_token = tokenizer.transform(df).select('idx','overall','words_token')\n",
    "df_words_token.show(5)\n",
    "\n",
    "# Remove stop words\n",
    "remover = StopWordsRemover(inputCol='words_token', outputCol='words_clean')\n",
    "df_words_no_stopw = remover.transform(df_words_token).select('idx', 'overall','words_clean')\n",
    "df_words_no_stopw.show(5)\n",
    "\n",
    "#lemmatization\n",
    "lemm=WordNetLemmatizer()\n",
    "lemm_udf=udf(lambda tokens:[lemm.lemmatize(token) for token in tokens], ArrayType(StringType()))\n",
    "df_lemm = df_words_no_stopw.withColumn(\"lemmi\", lemm_udf(\"words_clean\")).select('IDX',\"overall\", 'lemmi')\n",
    "df_lemm.show(5)\n",
    "\n",
    "# Stem text\n",
    "stemmer = SnowballStemmer(language='english')\n",
    "stemmer_udf = udf(lambda tokens: [stemmer.stem(token) for token in tokens], ArrayType(StringType()))\n",
    "df_stemmed = df_lemm.withColumn(\"words_stemmed\", stemmer_udf(\"lemmi\")).select('IDX',\"overall\",'words_stemmed')\n",
    "df_stemmed.show(5)\n",
    "\n",
    "\n",
    "# Filter length word > 3\n",
    "filter_length_udf = udf(lambda row: [x for x in row if len(x) > 3], ArrayType(StringType()))\n",
    "df_final_words = df_stemmed.withColumn('words', filter_length_udf(col('words_stemmed'))).select('IDX',\"overall\", 'words')\n",
    "df_final_words.show(5)\n"
   ]
  },
  {
   "cell_type": "markdown",
   "metadata": {},
   "source": [
    "## Final Dataframe\n",
    "\n",
    "Here is final dataframe after cleaning and it is showing just above 10 values."
   ]
  },
  {
   "cell_type": "code",
   "execution_count": 38,
   "metadata": {},
   "outputs": [
    {
     "name": "stdout",
     "output_type": "stream",
     "text": [
      "+---+-------+---------------------------------------------------------------------------------------------------------------------------------------------------------------------------------------------------------------------------------------------------------------------------------------------------------------------------------------------------------------------------------------------------------------------------------------------------------------------------------------------------------------------------------------------+\n",
      "|IDX|overall|words                                                                                                                                                                                                                                                                                                                                                                                                                                                                                                                                        |\n",
      "+---+-------+---------------------------------------------------------------------------------------------------------------------------------------------------------------------------------------------------------------------------------------------------------------------------------------------------------------------------------------------------------------------------------------------------------------------------------------------------------------------------------------------------------------------------------------------+\n",
      "|0  |1.0    |[alexa, control, light, tell, lifx, give, exampl, group, name, exact, group, name, request, shell, await, doesnt, recogn, name, skill, buggi, work, even, rest, alexa, uninstal, lifx, everyth]                                                                                                                                                                                                                                                                                                                                              |\n",
      "|1  |4.0    |[alexa, work, great, also, control, singl, bulb, moment, turn, onoff, chang, color, adjust, bright, easi, quick, said, expect, complic, bulb, hope, best, prepar, worst, right, specul, user, frustrat, might, stem, alexa, recogn, bulb, room, name, simplifi, bulb, name, lamp, list, live, room, group, within, lifx, address, either, categori, pretti, consist, turn, onoff, live, room, light, chang, lamp, light, color, live, room, light, like, tech, expect, grow, pain, earli, patient, skill, isnt, perfect, mean, decent, start]|\n",
      "|2  |1.0    |[weak, alexa, doesnt, even, recogn, name, lifx, wast, time, even, turn, light]                                                                                                                                                                                                                                                                                                                                                                                                                                                               |\n",
      "|3  |2.0    |[control, bulb, echo]                                                                                                                                                                                                                                                                                                                                                                                                                                                                                                                        |\n",
      "|4  |1.0    |[work, great, random, stop, pleas, updat]                                                                                                                                                                                                                                                                                                                                                                                                                                                                                                    |\n",
      "|5  |5.0    |[great, skill]                                                                                                                                                                                                                                                                                                                                                                                                                                                                                                                               |\n",
      "|6  |1.0    |[pretti, crappi, wonrsquot, connect, alexi]                                                                                                                                                                                                                                                                                                                                                                                                                                                                                                  |\n",
      "|7  |1.0    |[happi, connect, alexa, regardless]                                                                                                                                                                                                                                                                                                                                                                                                                                                                                                          |\n",
      "|8  |1.0    |[connect, light, alexa, link, lifx, amazon, alexa, locat, smart, bulb, hard, connect, alexa, even, watch, tube, video, still]                                                                                                                                                                                                                                                                                                                                                                                                                |\n",
      "|9  |1.0    |[servic, work, googl, home, doesnt, work, alexa, sure, machin]                                                                                                                                                                                                                                                                                                                                                                                                                                                                               |\n",
      "+---+-------+---------------------------------------------------------------------------------------------------------------------------------------------------------------------------------------------------------------------------------------------------------------------------------------------------------------------------------------------------------------------------------------------------------------------------------------------------------------------------------------------------------------------------------------------+\n",
      "only showing top 10 rows\n",
      "\n"
     ]
    }
   ],
   "source": [
    "df_final_words.show(10, False)"
   ]
  },
  {
   "cell_type": "markdown",
   "metadata": {},
   "source": [
    "## List of Stop Words"
   ]
  },
  {
   "cell_type": "code",
   "execution_count": 55,
   "metadata": {},
   "outputs": [
    {
     "name": "stdout",
     "output_type": "stream",
     "text": [
      "['i', 'me', 'my', 'myself', 'we', 'our', 'ours', 'ourselves', 'you', 'your', 'yours', 'yourself', 'yourselves', 'he', 'him', 'his', 'himself', 'she', 'her', 'hers', 'herself', 'it', 'its', 'itself', 'they', 'them', 'their', 'theirs', 'themselves', 'what', 'which', 'who', 'whom', 'this', 'that', 'these', 'those', 'am', 'is', 'are', 'was', 'were', 'be', 'been', 'being', 'have', 'has', 'had', 'having', 'do', 'does', 'did', 'doing', 'a', 'an', 'the', 'and', 'but', 'if', 'or', 'because', 'as', 'until', 'while', 'of', 'at', 'by', 'for', 'with', 'about', 'against', 'between', 'into', 'through', 'during', 'before', 'after', 'above', 'below', 'to', 'from', 'up', 'down', 'in', 'out', 'on', 'off', 'over', 'under', 'again', 'further', 'then', 'once', 'here', 'there', 'when', 'where', 'why', 'how', 'all', 'any', 'both', 'each', 'few', 'more', 'most', 'other', 'some', 'such', 'no', 'nor', 'not', 'only', 'own', 'same', 'so', 'than', 'too', 'very', 's', 't', 'can', 'will', 'just', 'don', 'should', 'now', \"i'll\", \"you'll\", \"he'll\", \"she'll\", \"we'll\", \"they'll\", \"i'd\", \"you'd\", \"he'd\", \"she'd\", \"we'd\", \"they'd\", \"i'm\", \"you're\", \"he's\", \"she's\", \"it's\", \"we're\", \"they're\", \"i've\", \"we've\", \"you've\", \"they've\", \"isn't\", \"aren't\", \"wasn't\", \"weren't\", \"haven't\", \"hasn't\", \"hadn't\", \"don't\", \"doesn't\", \"didn't\", \"won't\", \"wouldn't\", \"shan't\", \"shouldn't\", \"mustn't\", \"can't\", \"couldn't\", 'cannot', 'could', \"here's\", \"how's\", \"let's\", 'ought', \"that's\", \"there's\", \"what's\", \"when's\", \"where's\", \"who's\", \"why's\", 'would']\n"
     ]
    }
   ],
   "source": [
    "from pyspark.ml.feature import StopWordsRemover\n",
    "# Define a list of stop words or use default list\n",
    "remover = StopWordsRemover()\n",
    "stopwords = remover.getStopWords() # Display default list\n",
    "print(stopwords[:200])"
   ]
  },
  {
   "cell_type": "code",
   "execution_count": 23,
   "metadata": {},
   "outputs": [],
   "source": [
    "from pyspark.ml.feature import CountVectorizer\n",
    "from pyspark.mllib.linalg import Vectors\n",
    "\n",
    "cv=CountVectorizer(inputCol=\"words\", outputCol=\"features\")\n",
    "\n",
    "model=cv.fit(df_final_words)\n",
    "\n",
    "result=model.transform(df_final_words)"
   ]
  },
  {
   "cell_type": "code",
   "execution_count": 25,
   "metadata": {},
   "outputs": [
    {
     "name": "stdout",
     "output_type": "stream",
     "text": [
      "+---+-------+---------------------------------------------------------------------------------------------------------------------------------------------------------------------------------------------------------------------------------------------------------------------------------------------------------------------------------------------------------------------------------------------------------------------------------------------------------------------------------------------------------------------------------------------+------------------------------------------------------------------------------------------------------------------------------------------------------------------------------------------------------------------------------------------------------------------------------------------------------------------------------------------------------------------------------------------------------------------------------------------------------------------------------------+\n",
      "|IDX|overall|words                                                                                                                                                                                                                                                                                                                                                                                                                                                                                                                                        |features                                                                                                                                                                                                                                                                                                                                                                                                                                                                            |\n",
      "+---+-------+---------------------------------------------------------------------------------------------------------------------------------------------------------------------------------------------------------------------------------------------------------------------------------------------------------------------------------------------------------------------------------------------------------------------------------------------------------------------------------------------------------------------------------------------+------------------------------------------------------------------------------------------------------------------------------------------------------------------------------------------------------------------------------------------------------------------------------------------------------------------------------------------------------------------------------------------------------------------------------------------------------------------------------------+\n",
      "|0  |1.0    |[alexa, control, light, tell, lifx, give, exampl, group, name, exact, group, name, request, shell, await, doesnt, recogn, name, skill, buggi, work, even, rest, alexa, uninstal, lifx, everyth]                                                                                                                                                                                                                                                                                                                                              |(262144,[5,20,54,64,72,133,145,171,300,312,455,502,610,933,1301,1581,1866,2453,5115,5824,6402,39117],[1.0,1.0,1.0,1.0,1.0,1.0,1.0,1.0,3.0,1.0,1.0,1.0,2.0,1.0,1.0,1.0,1.0,1.0,2.0,1.0,1.0,2.0])                                                                                                                                                                                                                                                                                     |\n",
      "|1  |4.0    |[alexa, work, great, also, control, singl, bulb, moment, turn, onoff, chang, color, adjust, bright, easi, quick, said, expect, complic, bulb, hope, best, prepar, worst, right, specul, user, frustrat, might, stem, alexa, recogn, bulb, room, name, simplifi, bulb, name, lamp, list, live, room, group, within, lifx, address, either, categori, pretti, consist, turn, onoff, live, room, light, chang, lamp, light, color, live, room, light, like, tech, expect, grow, pain, earli, patient, skill, isnt, perfect, mean, decent, start]|(262144,[1,3,5,17,18,27,51,55,58,64,65,66,89,105,118,120,144,146,189,207,226,244,265,300,312,330,371,418,434,468,529,553,560,566,579,599,610,823,909,933,936,978,1009,1018,1231,1301,1317,1429,1599,1737,2385,2547,2963,3951,4516,5115,39117],[1.0,1.0,1.0,1.0,1.0,1.0,1.0,2.0,2.0,3.0,1.0,1.0,1.0,2.0,1.0,1.0,2.0,3.0,1.0,1.0,1.0,4.0,1.0,2.0,1.0,1.0,1.0,1.0,1.0,1.0,1.0,1.0,1.0,1.0,1.0,1.0,1.0,4.0,1.0,1.0,1.0,1.0,1.0,1.0,1.0,1.0,2.0,1.0,1.0,1.0,1.0,2.0,1.0,1.0,1.0,2.0,1.0])|\n",
      "|2  |1.0    |[weak, alexa, doesnt, even, recogn, name, lifx, wast, time, even, turn, light]                                                                                                                                                                                                                                                                                                                                                                                                                                                               |(262144,[7,20,64,72,105,300,411,1027,1301,5115,39117],[1.0,2.0,1.0,1.0,1.0,1.0,1.0,1.0,1.0,1.0,1.0])                                                                                                                                                                                                                                                                                                                                                                                |\n",
      "|3  |2.0    |[control, bulb, echo]                                                                                                                                                                                                                                                                                                                                                                                                                                                                                                                        |(262144,[312,823,2878],[1.0,1.0,1.0])                                                                                                                                                                                                                                                                                                                                                                                                                                               |\n",
      "|4  |1.0    |[work, great, random, stop, pleas, updat]                                                                                                                                                                                                                                                                                                                                                                                                                                                                                                    |(262144,[1,5,203,251,459,1522],[1.0,1.0,1.0,1.0,1.0,1.0])                                                                                                                                                                                                                                                                                                                                                                                                                           |\n",
      "|5  |5.0    |[great, skill]                                                                                                                                                                                                                                                                                                                                                                                                                                                                                                                               |(262144,[1,933],[1.0,1.0])                                                                                                                                                                                                                                                                                                                                                                                                                                                          |\n",
      "|6  |1.0    |[pretti, crappi, wonrsquot, connect, alexi]                                                                                                                                                                                                                                                                                                                                                                                                                                                                                                  |(262144,[89,234,3093,6988],[1.0,1.0,1.0,1.0])                                                                                                                                                                                                                                                                                                                                                                                                                                       |\n",
      "|7  |1.0    |[happi, connect, alexa, regardless]                                                                                                                                                                                                                                                                                                                                                                                                                                                                                                          |(262144,[96,234,1801,5115],[1.0,1.0,1.0,1.0])                                                                                                                                                                                                                                                                                                                                                                                                                                       |\n",
      "|8  |1.0    |[connect, light, alexa, link, lifx, amazon, alexa, locat, smart, bulb, hard, connect, alexa, even, watch, tube, video, still]                                                                                                                                                                                                                                                                                                                                                                                                                |(262144,[20,39,64,82,119,149,234,363,823,987,1029,1235,1240,5115,39117],[1.0,1.0,1.0,1.0,1.0,1.0,2.0,1.0,1.0,1.0,1.0,1.0,1.0,3.0,1.0])                                                                                                                                                                                                                                                                                                                                              |\n",
      "|9  |1.0    |[servic, work, googl, home, doesnt, work, alexa, sure, machin]                                                                                                                                                                                                                                                                                                                                                                                                                                                                               |(262144,[5,72,99,190,321,537,1744,5115],[2.0,1.0,1.0,1.0,1.0,1.0,1.0,1.0])                                                                                                                                                                                                                                                                                                                                                                                                          |\n",
      "+---+-------+---------------------------------------------------------------------------------------------------------------------------------------------------------------------------------------------------------------------------------------------------------------------------------------------------------------------------------------------------------------------------------------------------------------------------------------------------------------------------------------------------------------------------------------------+------------------------------------------------------------------------------------------------------------------------------------------------------------------------------------------------------------------------------------------------------------------------------------------------------------------------------------------------------------------------------------------------------------------------------------------------------------------------------------+\n",
      "only showing top 10 rows\n",
      "\n"
     ]
    }
   ],
   "source": [
    "result.show(10, False)"
   ]
  }
 ],
 "metadata": {
  "kernelspec": {
   "display_name": "Python 3",
   "language": "python",
   "name": "python3"
  },
  "language_info": {
   "codemirror_mode": {
    "name": "ipython",
    "version": 3
   },
   "file_extension": ".py",
   "mimetype": "text/x-python",
   "name": "python",
   "nbconvert_exporter": "python",
   "pygments_lexer": "ipython3",
   "version": "3.7.6"
  }
 },
 "nbformat": 4,
 "nbformat_minor": 4
}
